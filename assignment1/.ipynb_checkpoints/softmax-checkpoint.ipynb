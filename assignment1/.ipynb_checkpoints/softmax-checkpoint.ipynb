{
 "cells": [
  {
   "cell_type": "markdown",
   "metadata": {},
   "source": [
    "# Softmax exercise\n",
    "\n",
    "*Complete and hand in this completed worksheet (including its outputs and any supporting code outside of the worksheet) with your assignment submission. For more details see the [assignments page](http://vision.stanford.edu/teaching/cs231n/assignments.html) on the course website.*\n",
    "\n",
    "This exercise is analogous to the SVM exercise. You will:\n",
    "\n",
    "- implement a fully-vectorized **loss function** for the Softmax classifier\n",
    "- implement the fully-vectorized expression for its **analytic gradient**\n",
    "- **check your implementation** with numerical gradient\n",
    "- use a validation set to **tune the learning rate and regularization** strength\n",
    "- **optimize** the loss function with **SGD**\n",
    "- **visualize** the final learned weights\n"
   ]
  },
  {
   "cell_type": "code",
   "execution_count": 1,
   "metadata": {
    "collapsed": false
   },
   "outputs": [],
   "source": [
    "import random\n",
    "import numpy as np\n",
    "from cs231n.data_utils import load_CIFAR10\n",
    "import matplotlib.pyplot as plt\n",
    "%matplotlib inline\n",
    "plt.rcParams['figure.figsize'] = (10.0, 8.0) # set default size of plots\n",
    "plt.rcParams['image.interpolation'] = 'nearest'\n",
    "plt.rcParams['image.cmap'] = 'gray'\n",
    "\n",
    "# for auto-reloading extenrnal modules\n",
    "# see http://stackoverflow.com/questions/1907993/autoreload-of-modules-in-ipython\n",
    "%load_ext autoreload\n",
    "%autoreload 2"
   ]
  },
  {
   "cell_type": "code",
   "execution_count": 2,
   "metadata": {
    "collapsed": false
   },
   "outputs": [
    {
     "name": "stdout",
     "output_type": "stream",
     "text": [
      "Train data shape:  (49000, 3073)\n",
      "Train labels shape:  (49000,)\n",
      "Validation data shape:  (1000, 3073)\n",
      "Validation labels shape:  (1000,)\n",
      "Test data shape:  (1000, 3073)\n",
      "Test labels shape:  (1000,)\n",
      "dev data shape:  (500, 3073)\n",
      "dev labels shape:  (500,)\n"
     ]
    }
   ],
   "source": [
    "def get_CIFAR10_data(num_training=49000, num_validation=1000, num_test=1000, num_dev=500):\n",
    "  \"\"\"\n",
    "  Load the CIFAR-10 dataset from disk and perform preprocessing to prepare\n",
    "  it for the linear classifier. These are the same steps as we used for the\n",
    "  SVM, but condensed to a single function.  \n",
    "  \"\"\"\n",
    "  # Load the raw CIFAR-10 data\n",
    "  cifar10_dir = 'cs231n/datasets/cifar-10-batches-py'\n",
    "  X_train, y_train, X_test, y_test = load_CIFAR10(cifar10_dir)\n",
    "  \n",
    "  # subsample the data\n",
    "  mask = range(num_training, num_training + num_validation)\n",
    "  X_val = X_train[mask]\n",
    "  y_val = y_train[mask]\n",
    "  mask = range(num_training)\n",
    "  X_train = X_train[mask]\n",
    "  y_train = y_train[mask]\n",
    "  mask = range(num_test)\n",
    "  X_test = X_test[mask]\n",
    "  y_test = y_test[mask]\n",
    "  mask = np.random.choice(num_training, num_dev, replace=False)\n",
    "  X_dev = X_train[mask]\n",
    "  y_dev = y_train[mask]\n",
    "  \n",
    "  # Preprocessing: reshape the image data into rows\n",
    "  X_train = np.reshape(X_train, (X_train.shape[0], -1))\n",
    "  X_val = np.reshape(X_val, (X_val.shape[0], -1))\n",
    "  X_test = np.reshape(X_test, (X_test.shape[0], -1))\n",
    "  X_dev = np.reshape(X_dev, (X_dev.shape[0], -1))\n",
    "  \n",
    "  # Normalize the data: subtract the mean image\n",
    "  mean_image = np.mean(X_train, axis = 0)\n",
    "  X_train -= mean_image\n",
    "  X_val -= mean_image\n",
    "  X_test -= mean_image\n",
    "  X_dev -= mean_image\n",
    "  \n",
    "  # add bias dimension and transform into columns\n",
    "  X_train = np.hstack([X_train, np.ones((X_train.shape[0], 1))])\n",
    "  X_val = np.hstack([X_val, np.ones((X_val.shape[0], 1))])\n",
    "  X_test = np.hstack([X_test, np.ones((X_test.shape[0], 1))])\n",
    "  X_dev = np.hstack([X_dev, np.ones((X_dev.shape[0], 1))])\n",
    "  \n",
    "  return X_train, y_train, X_val, y_val, X_test, y_test, X_dev, y_dev\n",
    "\n",
    "\n",
    "# Invoke the above function to get our data.\n",
    "X_train, y_train, X_val, y_val, X_test, y_test, X_dev, y_dev = get_CIFAR10_data()\n",
    "print 'Train data shape: ', X_train.shape\n",
    "print 'Train labels shape: ', y_train.shape\n",
    "print 'Validation data shape: ', X_val.shape\n",
    "print 'Validation labels shape: ', y_val.shape\n",
    "print 'Test data shape: ', X_test.shape\n",
    "print 'Test labels shape: ', y_test.shape\n",
    "print 'dev data shape: ', X_dev.shape\n",
    "print 'dev labels shape: ', y_dev.shape"
   ]
  },
  {
   "cell_type": "markdown",
   "metadata": {},
   "source": [
    "## Softmax Classifier\n",
    "\n",
    "Your code for this section will all be written inside **cs231n/classifiers/softmax.py**. \n"
   ]
  },
  {
   "cell_type": "code",
   "execution_count": 3,
   "metadata": {
    "collapsed": false
   },
   "outputs": [
    {
     "name": "stdout",
     "output_type": "stream",
     "text": [
      "loss: 2.373706\n",
      "sanity check: 2.302585\n"
     ]
    }
   ],
   "source": [
    "# First implement the naive softmax loss function with nested loops.\n",
    "# Open the file cs231n/classifiers/softmax.py and implement the\n",
    "# softmax_loss_naive function.\n",
    "\n",
    "from cs231n.classifiers.softmax import softmax_loss_naive\n",
    "import time\n",
    "\n",
    "# Generate a random softmax weight matrix and use it to compute the loss.\n",
    "W = np.random.randn(3073, 10) * 0.0001\n",
    "loss, grad = softmax_loss_naive(W, X_dev, y_dev, 0.0)\n",
    "\n",
    "# As a rough sanity check, our loss should be something close to -log(0.1).\n",
    "print 'loss: %f' % loss\n",
    "print 'sanity check: %f' % (-np.log(0.1))"
   ]
  },
  {
   "cell_type": "markdown",
   "metadata": {},
   "source": [
    "## Inline Question 1:\n",
    "Why do we expect our loss to be close to -log(0.1)? Explain briefly.**\n",
    "\n",
    "**Your answer:** *Before training, the random accurcy should be 0.1*\n"
   ]
  },
  {
   "cell_type": "code",
   "execution_count": 4,
   "metadata": {
    "collapsed": false
   },
   "outputs": [
    {
     "name": "stdout",
     "output_type": "stream",
     "text": [
      "numerical: 0.759038 analytic: 0.759038, relative error: 5.179637e-08\n",
      "numerical: -0.619483 analytic: -0.619483, relative error: 3.990117e-08\n",
      "numerical: -0.699769 analytic: -0.699769, relative error: 7.814982e-09\n",
      "numerical: 3.017289 analytic: 3.017289, relative error: 1.394955e-08\n",
      "numerical: -0.511074 analytic: -0.511074, relative error: 1.094395e-07\n",
      "numerical: -1.635398 analytic: -1.635399, relative error: 4.172313e-08\n",
      "numerical: -1.644773 analytic: -1.644773, relative error: 2.490227e-08\n",
      "numerical: 1.522247 analytic: 1.522247, relative error: 4.894817e-08\n",
      "numerical: 0.113328 analytic: 0.113328, relative error: 1.620959e-07\n",
      "numerical: -1.076869 analytic: -1.076869, relative error: 3.630873e-08\n",
      "numerical: -1.417087 analytic: -1.417087, relative error: 8.466989e-10\n",
      "numerical: 0.012222 analytic: 0.012222, relative error: 2.107168e-06\n",
      "numerical: -3.223604 analytic: -3.223605, relative error: 1.605413e-08\n",
      "numerical: 2.281209 analytic: 2.281209, relative error: 1.954297e-08\n",
      "numerical: -1.015859 analytic: -1.015860, relative error: 5.074085e-08\n",
      "numerical: 2.894061 analytic: 2.894061, relative error: 2.444470e-08\n",
      "numerical: -0.205767 analytic: -0.205767, relative error: 2.231393e-07\n",
      "numerical: -0.394249 analytic: -0.394249, relative error: 8.296179e-08\n",
      "numerical: 5.735808 analytic: 5.735808, relative error: 5.660186e-09\n",
      "numerical: 4.059716 analytic: 4.059716, relative error: 1.195897e-08\n"
     ]
    }
   ],
   "source": [
    "# Complete the implementation of softmax_loss_naive and implement a (naive)\n",
    "# version of the gradient that uses nested loops.\n",
    "loss, grad = softmax_loss_naive(W, X_dev, y_dev, 0.0)\n",
    "\n",
    "# As we did for the SVM, use numeric gradient checking as a debugging tool.\n",
    "# The numeric gradient should be close to the analytic gradient.\n",
    "from cs231n.gradient_check import grad_check_sparse\n",
    "f = lambda w: softmax_loss_naive(w, X_dev, y_dev, 0.0)[0]\n",
    "grad_numerical = grad_check_sparse(f, W, grad, 10)\n",
    "\n",
    "# similar to SVM case, do another gradient check with regularization\n",
    "loss, grad = softmax_loss_naive(W, X_dev, y_dev, 1e2)\n",
    "f = lambda w: softmax_loss_naive(w, X_dev, y_dev, 1e2)[0]\n",
    "grad_numerical = grad_check_sparse(f, W, grad, 10)"
   ]
  },
  {
   "cell_type": "code",
   "execution_count": 11,
   "metadata": {
    "collapsed": false
   },
   "outputs": [
    {
     "name": "stdout",
     "output_type": "stream",
     "text": [
      "naive loss: 2.373706e+00 computed in 0.149483s\n",
      "vectorized loss: 2.373706e+00 computed in 0.006036s\n",
      "Loss difference: 0.000000\n",
      "Gradient difference: 0.000000\n"
     ]
    }
   ],
   "source": [
    "# Now that we have a naive implementation of the softmax loss function and its gradient,\n",
    "# implement a vectorized version in softmax_loss_vectorized.\n",
    "# The two versions should compute the same results, but the vectorized version should be\n",
    "# much faster.\n",
    "tic = time.time()\n",
    "loss_naive, grad_naive = softmax_loss_naive(W, X_dev, y_dev, 0.00001)\n",
    "toc = time.time()\n",
    "print 'naive loss: %e computed in %fs' % (loss_naive, toc - tic)\n",
    "\n",
    "from cs231n.classifiers.softmax import softmax_loss_vectorized\n",
    "tic = time.time()\n",
    "loss_vectorized, grad_vectorized = softmax_loss_vectorized(W, X_dev, y_dev, 0.00001)\n",
    "toc = time.time()\n",
    "print 'vectorized loss: %e computed in %fs' % (loss_vectorized, toc - tic)\n",
    "\n",
    "# As we did for the SVM, we use the Frobenius norm to compare the two versions\n",
    "# of the gradient.\n",
    "grad_difference = np.linalg.norm(grad_naive - grad_vectorized, ord='fro')\n",
    "print 'Loss difference: %f' % np.abs(loss_naive - loss_vectorized)\n",
    "print 'Gradient difference: %f' % grad_difference"
   ]
  },
  {
   "cell_type": "code",
   "execution_count": 17,
   "metadata": {
    "collapsed": false
   },
   "outputs": [
    {
     "name": "stdout",
     "output_type": "stream",
     "text": [
      "0.38\n",
      "0.38\n",
      "0.386\n",
      "0.386\n",
      "0.386\n",
      "lr 3.000000e-07 reg 1.000000e+04 train accuracy: 0.374469 val accuracy: 0.380000\n",
      "lr 3.000000e-07 reg 5.000000e+04 train accuracy: 0.320633 val accuracy: 0.338000\n",
      "lr 3.000000e-07 reg 8.000000e+04 train accuracy: 0.305571 val accuracy: 0.318000\n",
      "lr 3.000000e-07 reg 1.000000e+05 train accuracy: 0.315082 val accuracy: 0.318000\n",
      "lr 3.000000e-07 reg 5.000000e+05 train accuracy: 0.246429 val accuracy: 0.271000\n",
      "lr 3.000000e-07 reg 8.000000e+05 train accuracy: 0.254796 val accuracy: 0.273000\n",
      "lr 3.000000e-07 reg 1.000000e+06 train accuracy: 0.253122 val accuracy: 0.268000\n",
      "lr 3.000000e-07 reg 5.000000e+06 train accuracy: 0.192878 val accuracy: 0.188000\n",
      "lr 3.000000e-07 reg 8.000000e+06 train accuracy: 0.087592 val accuracy: 0.093000\n",
      "lr 3.000000e-07 reg 1.000000e+07 train accuracy: 0.100265 val accuracy: 0.087000\n",
      "lr 4.000000e-07 reg 1.000000e+04 train accuracy: 0.371204 val accuracy: 0.368000\n",
      "lr 4.000000e-07 reg 5.000000e+04 train accuracy: 0.325327 val accuracy: 0.337000\n",
      "lr 4.000000e-07 reg 8.000000e+04 train accuracy: 0.306816 val accuracy: 0.317000\n",
      "lr 4.000000e-07 reg 1.000000e+05 train accuracy: 0.296653 val accuracy: 0.318000\n",
      "lr 4.000000e-07 reg 5.000000e+05 train accuracy: 0.273694 val accuracy: 0.286000\n",
      "lr 4.000000e-07 reg 8.000000e+05 train accuracy: 0.246633 val accuracy: 0.259000\n",
      "lr 4.000000e-07 reg 1.000000e+06 train accuracy: 0.221388 val accuracy: 0.229000\n",
      "lr 4.000000e-07 reg 5.000000e+06 train accuracy: 0.103755 val accuracy: 0.117000\n",
      "lr 4.000000e-07 reg 8.000000e+06 train accuracy: 0.100265 val accuracy: 0.087000\n",
      "lr 4.000000e-07 reg 1.000000e+07 train accuracy: 0.100265 val accuracy: 0.087000\n",
      "lr 5.000000e-07 reg 1.000000e+04 train accuracy: 0.371857 val accuracy: 0.386000\n",
      "lr 5.000000e-07 reg 5.000000e+04 train accuracy: 0.318347 val accuracy: 0.335000\n",
      "lr 5.000000e-07 reg 8.000000e+04 train accuracy: 0.316714 val accuracy: 0.332000\n",
      "lr 5.000000e-07 reg 1.000000e+05 train accuracy: 0.296408 val accuracy: 0.313000\n",
      "lr 5.000000e-07 reg 5.000000e+05 train accuracy: 0.255939 val accuracy: 0.267000\n",
      "lr 5.000000e-07 reg 8.000000e+05 train accuracy: 0.248388 val accuracy: 0.260000\n",
      "lr 5.000000e-07 reg 1.000000e+06 train accuracy: 0.240816 val accuracy: 0.248000\n",
      "lr 5.000000e-07 reg 5.000000e+06 train accuracy: 0.100265 val accuracy: 0.087000\n",
      "lr 5.000000e-07 reg 8.000000e+06 train accuracy: 0.100265 val accuracy: 0.087000\n",
      "lr 5.000000e-07 reg 1.000000e+07 train accuracy: 0.100265 val accuracy: 0.087000\n",
      "lr 6.000000e-07 reg 1.000000e+04 train accuracy: 0.372184 val accuracy: 0.377000\n",
      "lr 6.000000e-07 reg 5.000000e+04 train accuracy: 0.329898 val accuracy: 0.330000\n",
      "lr 6.000000e-07 reg 8.000000e+04 train accuracy: 0.302143 val accuracy: 0.318000\n",
      "lr 6.000000e-07 reg 1.000000e+05 train accuracy: 0.306408 val accuracy: 0.332000\n",
      "lr 6.000000e-07 reg 5.000000e+05 train accuracy: 0.259531 val accuracy: 0.251000\n",
      "lr 6.000000e-07 reg 8.000000e+05 train accuracy: 0.232000 val accuracy: 0.260000\n",
      "lr 6.000000e-07 reg 1.000000e+06 train accuracy: 0.252878 val accuracy: 0.261000\n",
      "lr 6.000000e-07 reg 5.000000e+06 train accuracy: 0.100265 val accuracy: 0.087000\n",
      "lr 6.000000e-07 reg 8.000000e+06 train accuracy: 0.100265 val accuracy: 0.087000\n",
      "lr 6.000000e-07 reg 1.000000e+07 train accuracy: 0.100265 val accuracy: 0.087000\n",
      "lr 7.000000e-07 reg 1.000000e+04 train accuracy: 0.374327 val accuracy: 0.374000\n",
      "lr 7.000000e-07 reg 5.000000e+04 train accuracy: 0.320878 val accuracy: 0.338000\n",
      "lr 7.000000e-07 reg 8.000000e+04 train accuracy: 0.317000 val accuracy: 0.337000\n",
      "lr 7.000000e-07 reg 1.000000e+05 train accuracy: 0.302449 val accuracy: 0.311000\n",
      "lr 7.000000e-07 reg 5.000000e+05 train accuracy: 0.252061 val accuracy: 0.261000\n",
      "lr 7.000000e-07 reg 8.000000e+05 train accuracy: 0.250041 val accuracy: 0.264000\n",
      "lr 7.000000e-07 reg 1.000000e+06 train accuracy: 0.214939 val accuracy: 0.219000\n",
      "lr 7.000000e-07 reg 5.000000e+06 train accuracy: 0.100265 val accuracy: 0.087000\n",
      "lr 7.000000e-07 reg 8.000000e+06 train accuracy: 0.100265 val accuracy: 0.087000\n",
      "lr 7.000000e-07 reg 1.000000e+07 train accuracy: 0.100265 val accuracy: 0.087000\n",
      "best validation accuracy achieved during cross-validation: 0.386000\n"
     ]
    }
   ],
   "source": [
    "# Use the validation set to tune hyperparameters (regularization strength and\n",
    "# learning rate). You should experiment with different ranges for the learning\n",
    "# rates and regularization strengths; if you are careful you should be able to\n",
    "# get a classification accuracy of over 0.35 on the validation set.\n",
    "from cs231n.classifiers import Softmax\n",
    "results = {}\n",
    "best_val = -1\n",
    "best_softmax = None\n",
    "\n",
    "#lr 5.000000e-07 reg 8.000000e+04 train accuracy: 0.307735 val accuracy: 0.330000\n",
    "learning_rates = [3e-7,4e-7,5e-7,6e-7,7e-7]\n",
    "regularization_strengths = [1e4,5e4,8e4,1e5,5e5,8e5,1e6,5e6,8e6,1e7]\n",
    "\n",
    "################################################################################\n",
    "# TODO:                                                                        #\n",
    "# Use the validation set to set the learning rate and regularization strength. #\n",
    "# This should be identical to the validation that you did for the SVM; save    #\n",
    "# the best trained softmax classifer in best_softmax.                          #\n",
    "################################################################################\n",
    "for lr in learning_rates:\n",
    "    for rs in regularization_strengths:\n",
    "        curSM = Softmax()\n",
    "        loss_hist = curSM.train(X_train, y_train, learning_rate=lr, reg=rs, num_iters=2000, verbose=False)\n",
    "        training_pred = curSM.predict(X_train)\n",
    "        validation_pred = curSM.predict(X_val)\n",
    "        training_accuracy = np.mean(y_train == training_pred)\n",
    "        validation_accuracy = np.mean(y_val == validation_pred)\n",
    "        results[(lr,rs)] = (training_accuracy, validation_accuracy)\n",
    "        if validation_accuracy > best_val:\n",
    "            best_val = validation_accuracy\n",
    "            best_softmax = curSM\n",
    "    print best_val\n",
    "################################################################################\n",
    "#                              END OF YOUR CODE                                #\n",
    "################################################################################\n",
    "    \n",
    "# Print out results.\n",
    "for lr, reg in sorted(results):\n",
    "    train_accuracy, val_accuracy = results[(lr, reg)]\n",
    "    print 'lr %e reg %e train accuracy: %f val accuracy: %f' % (\n",
    "                lr, reg, train_accuracy, val_accuracy)\n",
    "    \n",
    "print 'best validation accuracy achieved during cross-validation: %f' % best_val"
   ]
  },
  {
   "cell_type": "code",
   "execution_count": 18,
   "metadata": {
    "collapsed": false
   },
   "outputs": [
    {
     "name": "stdout",
     "output_type": "stream",
     "text": [
      "softmax on raw pixels final test set accuracy: 0.379000\n"
     ]
    }
   ],
   "source": [
    "# evaluate on test set\n",
    "# Evaluate the best softmax on test set\n",
    "y_test_pred = best_softmax.predict(X_test)\n",
    "test_accuracy = np.mean(y_test == y_test_pred)\n",
    "print 'softmax on raw pixels final test set accuracy: %f' % (test_accuracy, )"
   ]
  },
  {
   "cell_type": "code",
   "execution_count": 19,
   "metadata": {
    "collapsed": false
   },
   "outputs": [
    {
     "data": {
      "image/png": "[encoded data removed]",
      "text/plain": [
       "<matplotlib.figure.Figure at 0x119ea9210>"
      ]
     },
     "metadata": {},
     "output_type": "display_data"
    }
   ],
   "source": [
    "# Visualize the learned weights for each class\n",
    "w = best_softmax.W[:-1,:] # strip out the bias\n",
    "w = w.reshape(32, 32, 3, 10)\n",
    "\n",
    "w_min, w_max = np.min(w), np.max(w)\n",
    "\n",
    "classes = ['plane', 'car', 'bird', 'cat', 'deer', 'dog', 'frog', 'horse', 'ship', 'truck']\n",
    "for i in xrange(10):\n",
    "  plt.subplot(2, 5, i + 1)\n",
    "  \n",
    "  # Rescale the weights to be between 0 and 255\n",
    "  wimg = 255.0 * (w[:, :, :, i].squeeze() - w_min) / (w_max - w_min)\n",
    "  plt.imshow(wimg.astype('uint8'))\n",
    "  plt.axis('off')\n",
    "  plt.title(classes[i])"
   ]
  },
  {
   "cell_type": "code",
   "execution_count": null,
   "metadata": {
    "collapsed": true
   },
   "outputs": [],
   "source": []
  }
 ],
 "metadata": {
  "kernelspec": {
   "display_name": "Python 2",
   "language": "python",
   "name": "python2"
  },
  "language_info": {
   "codemirror_mode": {
    "name": "ipython",
    "version": 2
   },
   "file_extension": ".py",
   "mimetype": "text/x-python",
   "name": "python",
   "nbconvert_exporter": "python",
   "pygments_lexer": "ipython2",
   "version": "2.7.5"
  }
 },
 "nbformat": 4,
 "nbformat_minor": 0
}
